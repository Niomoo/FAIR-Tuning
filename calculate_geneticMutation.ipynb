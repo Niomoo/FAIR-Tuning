{
 "cells": [
  {
   "cell_type": "code",
   "execution_count": 1,
   "metadata": {},
   "outputs": [],
   "source": [
    "import numpy as np\n",
    "import pandas as pd\n",
    "import glob\n",
    "from sklearn.preprocessing import LabelEncoder\n",
    "import os\n",
    "import shutil"
   ]
  },
  {
   "cell_type": "code",
   "execution_count": 2,
   "metadata": {},
   "outputs": [],
   "source": [
    "strClinicalInformationPath = \"./clinical_information/\"\n",
    "strEmbeddingPath = \"./../Fairness-Foundation/AI_fairness/\"\n",
    "strDataPath = \"./../nas/TCGA/Preprocessing/\"\n",
    "\n",
    "sensitive = {\"race\": [\"white\", \"black or african american\"]}"
   ]
  },
  {
   "cell_type": "code",
   "execution_count": 3,
   "metadata": {},
   "outputs": [],
   "source": [
    "def fClinicalInformation(cancer):\n",
    "    df = pd.DataFrame({})\n",
    "    part = pd.read_pickle(glob.glob(f'{strClinicalInformationPath}/{cancer}_clinical_information.pkl')[0])\n",
    "    part_df = pd.concat([df, part], ignore_index=True)\n",
    "    label = pd.read_pickle(glob.glob(f'{strClinicalInformationPath}/msi.pkl')[0])\n",
    "    label_df = pd.DataFrame(list(label.items()), columns=['case_submitter_id', 'label'])\n",
    "    df = pd.merge(part_df, label_df, on = 'case_submitter_id')\n",
    "    return df"
   ]
  },
  {
   "cell_type": "code",
   "execution_count": 4,
   "metadata": {},
   "outputs": [],
   "source": [
    "def fReduceDataFrame(cancer, df, sensitive):\n",
    "    df = df[['case_submitter_id', list(sensitive.keys())[0], 'label']]\n",
    "    df.columns = ['case_submitter_id', 'sensitive', 'label']\n",
    "    return df"
   ]
  },
  {
   "cell_type": "code",
   "execution_count": 5,
   "metadata": {},
   "outputs": [],
   "source": [
    "def fTransSensitive(sensitive, df):\n",
    "    substrings = sensitive[list(sensitive.keys())[0]]\n",
    "    df = df[[any(x in y for x in substrings) for y in df['sensitive'].tolist()]]\n",
    "    return df"
   ]
  },
  {
   "cell_type": "code",
   "execution_count": 6,
   "metadata": {},
   "outputs": [],
   "source": [
    "def getGeneticClassification(cancerType, sensitive):\n",
    "    dfClinicalInformation = fClinicalInformation(cancerType)\n",
    "    dfClinicalInformation = fReduceDataFrame(cancerType, dfClinicalInformation.drop_duplicates(subset = 'case_submitter_id', ignore_index = True), sensitive)\n",
    "    \n",
    "    lsDownloadPath = glob.glob(f'{strEmbeddingPath}/*.pt')\n",
    "    lsDownloadFoldID = [s.split('/')[-1][:-3] for s in lsDownloadPath]\n",
    "    # intTumor = 0\n",
    "    # if(intTumor == 0):\n",
    "    #     lsDownloadFoldID = np.array(lsDownloadFoldID)[[s[13] == '0' for s in lsDownloadFoldID]].tolist()\n",
    "    # elif(intTumor == 1):\n",
    "    #     lsDownloadFoldID = np.array(lsDownloadFoldID)[[s[13] != '0' for s in lsDownloadFoldID]].tolist()\n",
    "\n",
    "    lsDownloadCaseSubmitterId = [s[:12] for s in lsDownloadFoldID]\n",
    "    dfDownload = pd.DataFrame({\n",
    "                'case_submitter_id': lsDownloadCaseSubmitterId,\n",
    "                'folder_id': lsDownloadFoldID\n",
    "            })\n",
    "    dfClinicalInformation = pd.merge(dfClinicalInformation, dfDownload, on = \"case_submitter_id\")\n",
    "\n",
    "    # intDiagnosticSlide = 0       # 0 for formalin\n",
    "    # if(intDiagnosticSlide == 0):\n",
    "    #     dfClinicalInformation = dfClinicalInformation[['DX' in s[20:22] for s in dfClinicalInformation['folder_id'].tolist()]].reset_index(drop = True)\n",
    "    # elif(intDiagnosticSlide == 1):\n",
    "    #     dfClinicalInformation = dfClinicalInformation[['DX' not in s[20:22] for s in dfClinicalInformation['folder_id'].tolist()]].reset_index(drop = True)\n",
    "\n",
    "    # count = {}\n",
    "    if len(dfClinicalInformation) > 1:\n",
    "        # a0_count = len(dfClinicalInformation[dfClinicalInformation['sensitive'] == sensitive[list(sensitive.keys())[0]][0]])\n",
    "        # a1_count = len(dfClinicalInformation[dfClinicalInformation['sensitive'] == sensitive[list(sensitive.keys())[0]][1]])\n",
    "        # print(f'{sensitive[list(sensitive.keys())[0]][0]}_count: {a0_count}, {sensitive[list(sensitive.keys())[0]][1]}_count: {a1_count}, total: {a0_count + a1_count}')\n",
    "        # count = {f'{sensitive[list(sensitive.keys())[0]][0]}_count': a0_count, f'{sensitive[list(sensitive.keys())[0]][1]}_count': a1_count, 'total': a0_count + a1_count}\n",
    "   \n",
    "        le = LabelEncoder()\n",
    "        dfClinicalInformation.label = le.fit_transform(dfClinicalInformation.label.values)\n",
    "        leLabel = le.classes_\n",
    "\n",
    "        dictInformation = {}\n",
    "        dictInformation['label'] = leLabel\n",
    "        \n",
    "        dfClinicalInformation = fTransSensitive(sensitive, dfClinicalInformation).reset_index(drop = True)\n",
    "        dfClinicalInformation.sensitive = le.fit_transform(dfClinicalInformation.sensitive.values)\n",
    "        leSensitive = le.classes_\n",
    "        dictInformation['sensitive'] = leSensitive\n",
    "    return dfClinicalInformation"
   ]
  },
  {
   "cell_type": "code",
   "execution_count": 7,
   "metadata": {},
   "outputs": [
    {
     "name": "stdout",
     "output_type": "stream",
     "text": [
      "COAD\n",
      "Label 0 count: 808, Label 1 count: 179\n",
      "Sensitive female count: 494, Sensitive male: 493\n",
      "(0, 0), count=390\n",
      "(0, 1), count=418\n",
      "(1, 0), count=104\n",
      "(1, 1), count=75\n",
      "total: 987\n",
      "READ\n",
      "Label 0 count: 335, Label 1 count: 13\n",
      "Sensitive female count: 173, Sensitive male: 175\n",
      "(0, 0), count=171\n",
      "(0, 1), count=164\n",
      "(1, 0), count=2\n",
      "(1, 1), count=11\n",
      "total: 348\n"
     ]
    }
   ],
   "source": [
    "sensitive = {\"gender\": [\"female\", \"male\"]}\n",
    "cancers = [\"COAD\", \"READ\"]\n",
    "data = []\n",
    "for cancer in cancers:\n",
    "    print(cancer)\n",
    "    dfClinicalInformationOthers = getGeneticClassification(cancer, sensitive)\n",
    "    if len(dfClinicalInformationOthers) < 1:\n",
    "        continue\n",
    "    else:\n",
    "        groups = dfClinicalInformationOthers.groupby(['label', 'sensitive'])\n",
    "        count_0 = dfClinicalInformationOthers[dfClinicalInformationOthers['label'] == 0].shape[0] \n",
    "        count_1 = dfClinicalInformationOthers[dfClinicalInformationOthers['label'] == 1].shape[0]\n",
    "        sensitive_0 = dfClinicalInformationOthers[dfClinicalInformationOthers['sensitive'] == 0].shape[0]\n",
    "        sensitive_1 = dfClinicalInformationOthers[dfClinicalInformationOthers['sensitive'] == 1].shape[0]\n",
    "        print(f'Label 0 count: {count_0}, Label 1 count: {count_1}')\n",
    "        print(f'Sensitive female count: {sensitive_0}, Sensitive male: {sensitive_1}')\n",
    "        tmp = {'(0, 0)': 0, '(0, 1)': 0, '(1, 0)': 0, '(1, 1)': 0}\n",
    "        for group, df in groups:\n",
    "            print(f'({group[0]}, {group[1]}), count={df.shape[0]}')\n",
    "            tmp[f'({group[0]}, {group[1]})'] = df.shape[0]\n",
    "        data.append((cancer, tmp['(0, 0)'], tmp['(0, 1)'], tmp['(1, 0)'], tmp['(1, 1)'], count_0, count_1, sensitive_0, sensitive_1, len(dfClinicalInformationOthers)))\n",
    "       \n",
    "        print(f'total: {len(dfClinicalInformationOthers)}')\n",
    "        # for c in cancer:\n",
    "        #     ori_path = glob.glob(f'{strDataPath}/*{c}/clinical_information.pkl')[0]\n",
    "        #     shutil.copy(ori_path, f'./clinical_information/{c}_clinical_information.pkl')\n",
    "        dfClinicalInformationOthers.to_csv(f'./datasets/gender/geneticClassification/{cancer}_geneticClassification.csv', index=False)"
   ]
  },
  {
   "cell_type": "code",
   "execution_count": 8,
   "metadata": {},
   "outputs": [
    {
     "name": "stdout",
     "output_type": "stream",
     "text": [
      "COAD\n",
      "Label 0 count: 542, Label 1 count: 124\n",
      "Sensitive black count: 134, Sensitive white: 532\n",
      "(0, 0), count=114\n",
      "(0, 1), count=428\n",
      "(1, 0), count=20\n",
      "(1, 1), count=104\n",
      "total: 666\n",
      "READ\n",
      "Label 0 count: 190, Label 1 count: 8\n",
      "Sensitive black count: 12, Sensitive white: 186\n",
      "(0, 0), count=12\n",
      "(0, 1), count=178\n",
      "(1, 1), count=8\n",
      "total: 198\n"
     ]
    }
   ],
   "source": [
    "sensitive = {\"race\": [\"white\", \"black or african american\"]}\n",
    "cancers = [\"COAD\", \"READ\"]\n",
    "data = []\n",
    "for cancer in cancers:\n",
    "    print(cancer)\n",
    "    dfClinicalInformationOthers = getGeneticClassification(cancer, sensitive)\n",
    "    if len(dfClinicalInformationOthers) < 1:\n",
    "        continue\n",
    "    else:\n",
    "        groups = dfClinicalInformationOthers.groupby(['label', 'sensitive'])\n",
    "        count_0 = dfClinicalInformationOthers[dfClinicalInformationOthers['label'] == 0].shape[0] \n",
    "        count_1 = dfClinicalInformationOthers[dfClinicalInformationOthers['label'] == 1].shape[0]\n",
    "        sensitive_0 = dfClinicalInformationOthers[dfClinicalInformationOthers['sensitive'] == 0].shape[0]\n",
    "        sensitive_1 = dfClinicalInformationOthers[dfClinicalInformationOthers['sensitive'] == 1].shape[0]\n",
    "        print(f'Label 0 count: {count_0}, Label 1 count: {count_1}')\n",
    "        print(f'Sensitive black count: {sensitive_0}, Sensitive white: {sensitive_1}')\n",
    "        tmp = {'(0, 0)': 0, '(0, 1)': 0, '(1, 0)': 0, '(1, 1)': 0}\n",
    "        for group, df in groups:\n",
    "            print(f'({group[0]}, {group[1]}), count={df.shape[0]}')\n",
    "            tmp[f'({group[0]}, {group[1]})'] = df.shape[0]\n",
    "        data.append((cancer, tmp['(0, 0)'], tmp['(0, 1)'], tmp['(1, 0)'], tmp['(1, 1)'], count_0, count_1, sensitive_0, sensitive_1, len(dfClinicalInformationOthers)))\n",
    "       \n",
    "        print(f'total: {len(dfClinicalInformationOthers)}')\n",
    "        # for c in cancer:\n",
    "        #     ori_path = glob.glob(f'{strDataPath}/*{c}/clinical_information.pkl')[0]\n",
    "        #     shutil.copy(ori_path, f'./clinical_information/{c}_clinical_information.pkl')\n",
    "        dfClinicalInformationOthers.to_csv(f'./datasets/race/geneticClassification/{cancer}_geneticClassification.csv', index=False)"
   ]
  },
  {
   "cell_type": "code",
   "execution_count": null,
   "metadata": {},
   "outputs": [],
   "source": []
  }
 ],
 "metadata": {
  "kernelspec": {
   "display_name": "Python 3",
   "language": "python",
   "name": "python3"
  },
  "language_info": {
   "codemirror_mode": {
    "name": "ipython",
    "version": 3
   },
   "file_extension": ".py",
   "mimetype": "text/x-python",
   "name": "python",
   "nbconvert_exporter": "python",
   "pygments_lexer": "ipython3",
   "version": "3.8.10"
  },
  "orig_nbformat": 4
 },
 "nbformat": 4,
 "nbformat_minor": 2
}
