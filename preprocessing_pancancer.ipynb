{
 "cells": [
  {
   "cell_type": "code",
   "execution_count": 1,
   "metadata": {},
   "outputs": [],
   "source": [
    "import numpy as np\n",
    "import pandas as pd\n",
    "import glob\n",
    "import os\n",
    "import shutil"
   ]
  },
  {
   "cell_type": "code",
   "execution_count": 2,
   "metadata": {},
   "outputs": [],
   "source": [
    "strClinicalInformationPath = \"./tcga_pan_cancer/\""
   ]
  },
  {
   "cell_type": "code",
   "execution_count": 7,
   "metadata": {},
   "outputs": [],
   "source": [
    "for cancers in os.listdir(strClinicalInformationPath):\n",
    "    cancer = cancers.split('_')[0]\n",
    "    if os.path.isdir(f'{strClinicalInformationPath}{cancer}_tcga_pan_can_atlas_2018/'):\n",
    "        clinicalPath = f'{strClinicalInformationPath}{cancer}_tcga_pan_can_atlas_2018/clinical_data.tsv'\n",
    "        dfClinicalInformation = pd.read_csv(clinicalPath, sep='\\t')\n",
    "        dfPatientClinical = dfClinicalInformation[\n",
    "            [\n",
    "                \"Patient ID\",\n",
    "                \"Diagnosis Age\",\n",
    "                \"Neoplasm Disease Stage American Joint Committee on Cancer Code\",\n",
    "                \"Race Category\",\n",
    "                \"Sex\",\n",
    "            ]\n",
    "        ]\n",
    "        for types in os.listdir(f'{strClinicalInformationPath}{cancer}_tcga_pan_can_atlas_2018/'):\n",
    "            if types == 'Common Genes':\n",
    "                geneType = 'Common Genes'\n",
    "            elif types == 'Targeted Drugs for Genes':\n",
    "                geneType = 'Mutated Genes'\n",
    "            if os.path.isdir(f'{strClinicalInformationPath}{cancer}_tcga_pan_can_atlas_2018/{types}/'):\n",
    "                for name in os.listdir(f'{strClinicalInformationPath}{cancer}_tcga_pan_can_atlas_2018/{types}/'):\n",
    "                    geneName = name.split('_')[1:]\n",
    "                    geneName = '_'.join(geneName)\n",
    "                    dfLabel = pd.read_csv(\n",
    "                        f\"{strClinicalInformationPath}{cancer}_tcga_pan_can_atlas_2018/{types}/{name}/Type of Genetic Alterations Across All Samples.csv\"\n",
    "                    )\n",
    "                    dfLabel = dfLabel[[\"Patient ID\", \"Altered\"]]\n",
    "                    dfLabel.rename(columns={\"Altered\": f'{geneName}'}, inplace=True)\n",
    "                    dfPatientClinical = pd.merge(dfPatientClinical, dfLabel, on=\"Patient ID\", how=\"left\")\n",
    "\n",
    "        dfPatientClinical.to_csv(\n",
    "            f\"{strClinicalInformationPath}{cancer}_tcga_pan_can_atlas_2018/patient_clinical.csv\",\n",
    "            index=False,\n",
    "        )"
   ]
  },
  {
   "cell_type": "code",
   "execution_count": null,
   "metadata": {},
   "outputs": [],
   "source": []
  }
 ],
 "metadata": {
  "kernelspec": {
   "display_name": "Python 3",
   "language": "python",
   "name": "python3"
  },
  "language_info": {
   "codemirror_mode": {
    "name": "ipython",
    "version": 3
   },
   "file_extension": ".py",
   "mimetype": "text/x-python",
   "name": "python",
   "nbconvert_exporter": "python",
   "pygments_lexer": "ipython3",
   "version": "3.8.10"
  }
 },
 "nbformat": 4,
 "nbformat_minor": 2
}
